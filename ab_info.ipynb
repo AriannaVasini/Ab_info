{
 "cells": [
  {
   "cell_type": "code",
   "execution_count": null,
   "metadata": {},
   "outputs": [],
   "source": [
    "import numpy as np\n",
    "from astropy.coordinates import SkyCoord\n",
    "from astropy.io import fits"
   ]
  },
  {
   "cell_type": "code",
   "execution_count": null,
   "metadata": {},
   "outputs": [],
   "source": [
    "# apro il catalogo redmapper\n",
    "\n",
    "name = 'redmapper.fit'\n",
    "rm_cat = fits.open(name)\n",
    "rm_cat.info()\n",
    "rm_cat_hdr = rm_cat[1].header\n",
    "rm_cat_hdr"
   ]
  },
  {
   "cell_type": "code",
   "execution_count": null,
   "metadata": {},
   "outputs": [],
   "source": [
    "rm_cat_data = rm_cat[1].data\n",
    "rm_cat_data"
   ]
  },
  {
   "cell_type": "code",
   "execution_count": null,
   "metadata": {},
   "outputs": [],
   "source": [
    "# ra redmapper\n",
    "\n",
    "i=0\n",
    "RA=[]\n",
    "while i<53610:\n",
    "    n=rm_cat_data[i][1]\n",
    "    RA.append(n)\n",
    "    i=i+1\n",
    "    if i==53610:\n",
    "        print(RA)\n"
   ]
  },
  {
   "cell_type": "code",
   "execution_count": null,
   "metadata": {},
   "outputs": [],
   "source": [
    "# dec redmapper\n",
    "\n",
    "i=0\n",
    "DEC=[]\n",
    "while i<53610:\n",
    "    n=rm_cat_data[i][2]\n",
    "    DEC.append(n)\n",
    "    i=i+1\n",
    "    if i==53610:\n",
    "        print(DEC)"
   ]
  },
  {
   "cell_type": "code",
   "execution_count": null,
   "metadata": {},
   "outputs": [],
   "source": [
    "# redshift redmapper\n",
    "\n",
    "i=0\n",
    "Z=[]\n",
    "while i<53610:\n",
    "    n=rm_cat_data[i][26]\n",
    "    Z.append(n)\n",
    "    i=i+1\n",
    "    if i==53610:\n",
    "        print(Z)"
   ]
  },
  {
   "cell_type": "code",
   "execution_count": null,
   "metadata": {},
   "outputs": [],
   "source": [
    "# ricchezza redmapper\n",
    "\n",
    "i=0\n",
    "RICH=[]\n",
    "while i<53610:\n",
    "    n=rm_cat_data[i][14]\n",
    "    RICH.append(n)\n",
    "    i=i+1\n",
    "    if i==53610:\n",
    "        print(RICH)\n"
   ]
  },
  {
   "cell_type": "code",
   "execution_count": null,
   "metadata": {},
   "outputs": [],
   "source": [
    "# apro il catalogo SPT\n",
    "\n",
    "name2 = 'spt.fits'\n",
    "spt_cat = fits.open(name2)\n",
    "spt_cat.info()\n",
    "spt_cat_hdr = spt_cat[1].header\n",
    "spt_cat_hdr"
   ]
  },
  {
   "cell_type": "code",
   "execution_count": null,
   "metadata": {},
   "outputs": [],
   "source": [
    "spt_cat_data = spt_cat[1].data\n",
    "spt_cat_data"
   ]
  },
  {
   "cell_type": "code",
   "execution_count": null,
   "metadata": {},
   "outputs": [],
   "source": [
    "#ra spt \n",
    "\n",
    "i=0\n",
    "RA_SPT=[]\n",
    "while i<470:\n",
    "    n=spt_cat_data[i][1]\n",
    "    RA_SPT.append(n)\n",
    "    i=i+1\n",
    "    if i==470:\n",
    "        print(RA_SPT)\n"
   ]
  },
  {
   "cell_type": "code",
   "execution_count": null,
   "metadata": {},
   "outputs": [],
   "source": [
    "# dec spt\n",
    "\n",
    "i=0\n",
    "DEC_SPT=[]\n",
    "while i<470:\n",
    "    n=spt_cat_data[i][2]\n",
    "    DEC_SPT.append(n)\n",
    "    i=i+1\n",
    "    if i==470:\n",
    "        print(DEC_SPT)"
   ]
  },
  {
   "cell_type": "code",
   "execution_count": null,
   "metadata": {},
   "outputs": [],
   "source": [
    "# redshift spt\n",
    "\n",
    "i=0\n",
    "Z_SPT=[]\n",
    "while i<470:\n",
    "    n=spt_cat_data[i][6]\n",
    "    Z_SPT.append(n)\n",
    "    i=i+1\n",
    "    if i==470:\n",
    "        print(Z_SPT)"
   ]
  },
  {
   "cell_type": "code",
   "execution_count": null,
   "metadata": {},
   "outputs": [],
   "source": [
    "# ricchezza spt\n",
    "\n",
    "i=0\n",
    "RICH_SPT=[]\n",
    "while i<470:\n",
    "    n=spt_cat_data[i][1]\n",
    "    RICH_SPT.append(n)\n",
    "    i=i+1\n",
    "    if i==470:\n",
    "        print(RICH_SPT)\n"
   ]
  },
  {
   "cell_type": "code",
   "execution_count": null,
   "metadata": {},
   "outputs": [],
   "source": [
    "# confronto coordinate\n",
    "# 10 minuti d'arco = 0.17 gradi\n",
    "\n",
    "import math\n",
    "\n",
    "\n",
    "i=0\n",
    "n=0\n",
    "diff_Z=[]\n",
    "Z_medio=[]\n",
    "RA_match=[]\n",
    "DEC_match=[]\n",
    "id_rm=[]\n",
    "id_spt=[]\n",
    "raggio=[]\n",
    "while i<53610:\n",
    "    j=0\n",
    "    while j<470:\n",
    "        delta_Z=abs(Z[i]-Z_SPT[j])\n",
    "        if delta_Z<0.1:\n",
    "            Z_med=0.5*(Z[i]+Z_SPT[j])\n",
    "            diff_RA = abs(RA[i]-RA_SPT[j])\n",
    "            diff_DEC = abs(DEC[i]-DEC_SPT[j])\n",
    "            raggio1 = math.sqrt(diff_RA**2 + diff_DEC**2)\n",
    "            if raggio1<=0.17:\n",
    "                print(n,i,j,diff_RA, diff_DEC, raggio1,delta_Z,Z_med)\n",
    "                n=n+1\n",
    "            if raggio1<=0.17:\n",
    "                raggio.append(raggio1)\n",
    "                RA_match.append(diff_RA)\n",
    "                DEC_match.append(diff_DEC)\n",
    "                id_rm.append(i)\n",
    "                id_spt.append(j)\n",
    "                diff_Z.append(delta_Z)\n",
    "                Z_medio.append(Z_med)\n",
    "        j=j+1\n",
    "    i=i+1\n",
    "print(RA_match)\n",
    "print(DEC_match)\n",
    "print(id_rm)\n",
    "print(id_spt)\n",
    "print(raggio)\n",
    "len(RA_match)"
   ]
  },
  {
   "cell_type": "code",
   "execution_count": null,
   "metadata": {},
   "outputs": [],
   "source": [
    "len(id_rm)"
   ]
  },
  {
   "cell_type": "code",
   "execution_count": null,
   "metadata": {},
   "outputs": [],
   "source": [
    "i=0\n",
    "while i<len(id_rm)-1:\n",
    "    if id_rm[i]==id_rm[i+1]:\n",
    "        print(id_rm[i],id_rm[i+1],i,i+1)\n",
    "    i=i+1"
   ]
  },
  {
   "cell_type": "code",
   "execution_count": null,
   "metadata": {},
   "outputs": [],
   "source": [
    "# tolgo quegli ammassi per cui ho più corrispondenze\n",
    "\n",
    "i=0\n",
    "while i<len(id_rm)-1:\n",
    "    if id_rm[i]==id_rm[i+1]:\n",
    "        print(id_rm[i],id_rm[i+1],i,i+1)\n",
    "        if RICH[i]>RICH[i+1]:\n",
    "            id_rm.remove(id_rm[i+1])\n",
    "            id_spt.remove(id_spt[i+1])\n",
    "            RA_match.remove(RA_match[i+1])\n",
    "            DEC_match.remove(DEC_match[i+1])\n",
    "            raggio.remove(raggio[i+1])\n",
    "            diff_Z.remove(diff_Z[i+1])\n",
    "            Z_medio.remove(Z_medio[i+1])\n",
    "        if RICH[i]<RICH[i+1]:\n",
    "            id_rm.remove(id_rm[i])\n",
    "            id_spt.remove(id_spt[i])\n",
    "            RA_match.remove(RA_match[i])\n",
    "            DEC_match.remove(DEC_match[i])\n",
    "            raggio.remove(raggio[i])\n",
    "            diff_Z.remove(diff_Z[i])\n",
    "            Z_medio.remove(Z_medio[i])\n",
    "            i=i-1\n",
    "    i=i+1"
   ]
  },
  {
   "cell_type": "code",
   "execution_count": null,
   "metadata": {},
   "outputs": [],
   "source": [
    "print(id_rm)\n",
    "print(len(id_rm))"
   ]
  },
  {
   "cell_type": "code",
   "execution_count": null,
   "metadata": {},
   "outputs": [],
   "source": [
    "print(id_spt)\n",
    "print(len(id_spt))"
   ]
  },
  {
   "cell_type": "code",
   "execution_count": null,
   "metadata": {},
   "outputs": [],
   "source": [
    "i=0\n",
    "while i<len(id_spt)-1:\n",
    "    if id_spt[i]==id_spt[i+1]:\n",
    "        print(id_spt[i],id_spt[i+1],i,i+1)\n",
    "    i=i+1"
   ]
  },
  {
   "cell_type": "code",
   "execution_count": null,
   "metadata": {},
   "outputs": [],
   "source": [
    "# tolgo quegli ammassi per cui ho più corrispondenze\n",
    "\n",
    "i=0\n",
    "while i<len(id_spt)-1:\n",
    "    if id_spt[i]==id_spt[i+1]:\n",
    "        print(id_spt[i],id_spt[i+1],i,i+1)\n",
    "        if RICH_SPT[i]>RICH_SPT[i+1]:\n",
    "            id_rm.remove(id_rm[i+1])\n",
    "            id_spt.remove(id_spt[i+1])\n",
    "            RA_match.remove(RA_match[i+1])\n",
    "            DEC_match.remove(DEC_match[i+1])\n",
    "            raggio.remove(raggio[i+1])\n",
    "            diff_Z.remove(diff_Z[i+1])\n",
    "            Z_medio.remove(Z_medio[i+1])\n",
    "        if RICH_SPT[i]<RICH_SPT[i+1]:\n",
    "            id_rm.remove(id_rm[i])\n",
    "            id_spt.remove(id_spt[i])\n",
    "            RA_match.remove(RA_match[i])\n",
    "            DEC_match.remove(DEC_match[i])\n",
    "            raggio.remove(raggio[i])\n",
    "            diff_Z.remove(diff_Z[i])\n",
    "            Z_medio.remove(Z_medio[i])\n",
    "            i=i-1\n",
    "    i=i+1"
   ]
  },
  {
   "cell_type": "code",
   "execution_count": null,
   "metadata": {},
   "outputs": [],
   "source": [
    "print(id_rm)\n",
    "print(len(id_rm))"
   ]
  },
  {
   "cell_type": "code",
   "execution_count": null,
   "metadata": {},
   "outputs": [],
   "source": [
    "print(id_spt)\n",
    "print(len(id_spt))"
   ]
  },
  {
   "cell_type": "code",
   "execution_count": null,
   "metadata": {},
   "outputs": [],
   "source": [
    "# organizzo i dati in una matrice\n",
    "# colonna 1: posizione in catalogo rm\n",
    "# colonna 2: posizione in catalogo spt\n",
    "# colonna 3: differenza nelle RA\n",
    "# colonna 4: differenza nelle DEC\n",
    "# colonna 5: distanze tra i due cataloghi\n",
    "# colonna 6: differenze tra i redshift\n",
    "# colonna 7: media tra i redshift nei due cataloghi\n",
    "\n",
    "m=np.array([id_rm,id_spt,RA_match,DEC_match,raggio,diff_Z,Z_medio])\n",
    "m=m.T\n",
    "m"
   ]
  },
  {
   "cell_type": "code",
   "execution_count": null,
   "metadata": {},
   "outputs": [],
   "source": [
    "m.shape"
   ]
  },
  {
   "cell_type": "code",
   "execution_count": null,
   "metadata": {},
   "outputs": [],
   "source": [
    "#converto angoli in distanze\n",
    "# dim_fisica è la lista con le distanze in Mpc\n",
    "\n",
    "i=0\n",
    "H_0=70.0\n",
    "c=300000.0 #km al sec\n",
    "distanza_L=[]\n",
    "distanza_D=[]\n",
    "dim_fisica=[]\n",
    "raggio_rad=[]\n",
    "while i<len(raggio):\n",
    "    rad = (180.0*raggio[i])/3.14\n",
    "    raggio_rad.append(rad)\n",
    "    dist_L = H_0 / (c*Z_medio[i])\n",
    "    dist_D = dist_L / ((1+Z_medio[i])**2)\n",
    "    dim = rad*dist_D\n",
    "    dim_fisica.append(dim)\n",
    "    i=i+1\n",
    "print(len(dim_fisica))\n",
    "print(dim_fisica)"
   ]
  },
  {
   "cell_type": "code",
   "execution_count": null,
   "metadata": {},
   "outputs": [],
   "source": []
  }
 ],
 "metadata": {
  "celltoolbar": "Raw Cell Format",
  "kernelspec": {
   "display_name": "Python 3",
   "language": "python",
   "name": "python3"
  },
  "language_info": {
   "codemirror_mode": {
    "name": "ipython",
    "version": 3
   },
   "file_extension": ".py",
   "mimetype": "text/x-python",
   "name": "python",
   "nbconvert_exporter": "python",
   "pygments_lexer": "ipython3",
   "version": "3.7.6"
  }
 },
 "nbformat": 4,
 "nbformat_minor": 4
}
